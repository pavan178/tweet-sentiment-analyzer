{
 "cells": [
  {
   "cell_type": "markdown",
   "metadata": {
    "id": "s0_MSWJX0vy2"
   },
   "source": [
    "# NLP Assignment 1 (40% of grade): Sentiment Analysis from Tweets\n",
    "\n",
    "This coursework will involve you implementing functions for a text classifier, which you will train to identify the **sentiment expressed in a text** in a dataset of approx. 27,000 entries, which will be split into a 80%/20% training/test split.\n",
    "\n",
    "In this template you are given the basis for that implementation, though some of the functions are missing, which you have to fill in.\n",
    "\n",
    "Follow the instructions file **NLP_Assignment_1_Instructions.pdf** for details of each question - the outline of what needs to be achieved for each question is as below.\n",
    "\n",
    "You must submit all **ipython notebooks and extra resources you need to run the code if you've added them** in the code submission, and a **2 page report (pdf)** in the report submission on QMPlus where you report your methods and findings according to the instructions file for each question."
   ]
  },
  {
   "cell_type": "code",
   "execution_count": 24,
   "metadata": {
    "colab": {
     "base_uri": "https://localhost:8080/"
    },
    "id": "rAqP5keg0vy8",
    "outputId": "57f8f501-20a0-4b33-d66a-706c0e41c8bb",
    "tags": []
   },
   "outputs": [
    {
     "name": "stderr",
     "output_type": "stream",
     "text": [
      "[nltk_data] Downloading package punkt to /home/jovyan/nltk_data...\n",
      "[nltk_data]   Package punkt is already up-to-date!\n",
      "[nltk_data] Downloading package stopwords to /home/jovyan/nltk_data...\n",
      "[nltk_data]   Package stopwords is already up-to-date!\n",
      "[nltk_data] Downloading package wordnet to /home/jovyan/nltk_data...\n",
      "[nltk_data]   Package wordnet is already up-to-date!\n"
     ]
    },
    {
     "data": {
      "text/plain": [
       "True"
      ]
     },
     "execution_count": 24,
     "metadata": {},
     "output_type": "execute_result"
    }
   ],
   "source": [
    "# csv reader\n",
    "import csv\n",
    "from sklearn.svm import LinearSVC\n",
    "from nltk.classify import SklearnClassifier\n",
    "from sklearn.pipeline import Pipeline\n",
    "from sklearn.metrics import precision_recall_fscore_support # to report on precision and recall\n",
    "import numpy as np\n",
    "import nltk\n",
    "from nltk.corpus import stopwords\n",
    "from nltk.stem import WordNetLemmatizer\n",
    "nltk.download('punkt')\n",
    "nltk.download('stopwords')\n",
    "nltk.download('wordnet')"
   ]
  },
  {
   "cell_type": "code",
   "execution_count": 25,
   "metadata": {
    "editable": true,
    "id": "ZliU8YnT0vzA",
    "slideshow": {
     "slide_type": ""
    },
    "tags": []
   },
   "outputs": [],
   "source": [
    "raw_data = []\n",
    "train_data = []\n",
    "test_data = []\n",
    "def load_data(path):\n",
    "    \"\"\"Load data from a tab-separated file and append it to raw_data.\"\"\"\n",
    "    with open(path,newline='', encoding='utf-8') as f:\n",
    "        reader = csv.reader(f, delimiter='\\t')\n",
    "        for line in reader:\n",
    "            if line[0] == \"Id\":  # skip header\n",
    "                continue\n",
    "            (label, text) = parse_data_line(line)\n",
    "            raw_data.append((text.lower(), label))\n",
    "           \n",
    "\n",
    "def split_and_preprocess_data(percentage):\n",
    "    \"\"\"Split the data between train_data and test_data according to the percentage\n",
    "    and performs the preprocessing.\"\"\"\n",
    "    num_samples = len(raw_data)\n",
    "    num_training_samples = int((percentage * num_samples))\n",
    "    print('train data: ',num_training_samples)\n",
    "    print('test data: ',num_samples-num_training_samples)\n",
    "    for (text, label) in raw_data[:num_training_samples]:\n",
    "        \n",
    "        train_data.append((to_feature_vector(pre_process(text)),label))\n",
    "    for (text, label) in raw_data[num_training_samples:]:\n",
    "        test_data.append((to_feature_vector(pre_process(text)),label))"
   ]
  },
  {
   "cell_type": "code",
   "execution_count": 26,
   "metadata": {},
   "outputs": [
    {
     "data": {
      "text/plain": [
       "0"
      ]
     },
     "execution_count": 26,
     "metadata": {},
     "output_type": "execute_result"
    }
   ],
   "source": [
    "len(raw_data)"
   ]
  },
  {
   "cell_type": "markdown",
   "metadata": {
    "id": "W7UDk3J-0vzF"
   },
   "source": [
    "# Question 1: Input and Basic preprocessing (10 marks)"
   ]
  },
  {
   "cell_type": "code",
   "execution_count": 27,
   "metadata": {
    "editable": true,
    "id": "u3zw1efE0vzF",
    "slideshow": {
     "slide_type": ""
    },
    "tags": []
   },
   "outputs": [],
   "source": [
    "def parse_data_line(data_line):\n",
    "\n",
    "    # tup = tup + tuple(text[2])\n",
    "    # Should return a tuple of the label as just FAKE or REAL and the statement\n",
    "    # e.g. (label, statement)\n",
    "    return (data_line[1], data_line[2])"
   ]
  },
  {
   "cell_type": "code",
   "execution_count": 28,
   "metadata": {
    "id": "r-k6OS4p0vzH",
    "tags": []
   },
   "outputs": [],
   "source": [
    "import re\n",
    "import nltk\n",
    "# Input: a string of one statement\n",
    "\n",
    "def remove_emojis(text):\n",
    "    emoji_pattern = re.compile(\"[\"\n",
    "                           u\"\\U0001F600-\\U0001F64F\"  # emoticons\n",
    "                           u\"\\U0001F300-\\U0001F5FF\"  # symbols & pictographs\n",
    "                           u\"\\U0001F680-\\U0001F6FF\"  # transport & map symbols\n",
    "                           u\"\\U0001F700-\\U0001F77F\"  # alchemical symbols\n",
    "                           u\"\\U0001F780-\\U0001F7FF\"  # Geometric Shapes Extended\n",
    "                           u\"\\U0001F800-\\U0001F8FF\"  # Supplemental Arrows-C\n",
    "                           u\"\\U0001F900-\\U0001F9FF\"  # Supplemental Symbols and Pictographs\n",
    "                           u\"\\U0001FA00-\\U0001FA6F\"  # Chess Symbols\n",
    "                           u\"\\U0001FA70-\\U0001FAFF\"  # Symbols and Pictographs Extended-A\n",
    "                           u\"\\U00002702-\\U000027B0\"  # Dingbats\n",
    "                           u\"\\U000024C2-\\U0001F251\" \n",
    "                           \"]+\", flags=re.UNICODE)\n",
    "    return emoji_pattern.sub(r'', text)\n",
    "\n",
    "\n",
    "def pre_process(text):\n",
    "    text = re.sub(r'http\\S+', '', text)\n",
    "    text = re.sub(r'[^\\w\\s]', '', text)\n",
    "    text = remove_emojis(text)\n",
    "    text = re.sub(r'\\d+', '', text)\n",
    "    tokens = re.findall(r'\\b\\w+\\b', text)\n",
    "    #stop_words = set(stopwords.words('english'))\n",
    "    #tokens = [token for token in tokens if token not in stop_words]\n",
    "    lemmatizer = WordNetLemmatizer()\n",
    "    tokens = [lemmatizer.lemmatize(token) for token in tokens]\n",
    "    \n",
    "    # print(nltk_tokens)\n",
    "    # Should return a list of tokens\n",
    "    # DESCRIBE YOUR METHOD IN WORDS\n",
    "    return tokens"
   ]
  },
  {
   "cell_type": "markdown",
   "metadata": {
    "id": "bOSyW1q00vzI"
   },
   "source": [
    "# Question 2: Basic Feature Extraction (20 marks)"
   ]
  },
  {
   "cell_type": "code",
   "execution_count": 29,
   "metadata": {},
   "outputs": [],
   "source": [
    "from nltk import ngrams\n",
    "\n",
    "global_feature_dict = {}  # A global dictionary of features\n",
    "\n",
    "def to_feature_vector(tokens, n=1):\n",
    "    # Initialize an empty feature dictionary for the current instance\n",
    "    instance_feature_dict = {}\n",
    "\n",
    "    # Iterate over tokens and create features\n",
    "    for token in tokens:\n",
    "        # Use binary feature values: 1 if the word is present, 0 otherwise\n",
    "        instance_feature_dict[token] = 1\n",
    "        \n",
    "\n",
    "        # Update the global feature dictionary\n",
    "        global_feature_dict[token] = global_feature_dict.get(token, 0) + 1\n",
    "\n",
    "    \n",
    "        \n",
    "    # Use binary feature values: 1 if the word is present, 0 otherwise\n",
    "    \n",
    "    \n",
    "    # Include n-grams as features\n",
    "    bigrams_list = list(ngrams(tokens, 2))\n",
    "    for gram in bigrams_list:\n",
    "        instance_feature_dict[\" \".join(gram)] = 1\n",
    "        global_feature_dict[\" \".join(gram)] = global_feature_dict.get(gram, 0) + 1\n",
    "\n",
    "    trigrams_list = list(ngrams(tokens, 3))\n",
    "    for gram in trigrams_list:\n",
    "        \n",
    "        instance_feature_dict[\" \".join(gram)] = 1\n",
    "        global_feature_dict[\" \".join(gram)] = global_feature_dict.get(gram, 0) + 1\n",
    "\n",
    "    # Return the feature dictionary for the current instance\n",
    "    return instance_feature_dict\n",
    "\n"
   ]
  },
  {
   "cell_type": "code",
   "execution_count": 30,
   "metadata": {
    "id": "VjL_lfLC0vzK"
   },
   "outputs": [],
   "source": [
    "# TRAINING AND VALIDATING OUR CLASSIFIER\n",
    "\n",
    "def train_classifier(data):\n",
    "    print(\"Training Classifier...\")\n",
    "    #pipeline =  Pipeline([('svc', LinearSVC())])\n",
    "    pipeline = Pipeline([\n",
    "        ('svc', LinearSVC(C=1, max_iter=1500, class_weight='balanced'))])\n",
    "    \n",
    "    return SklearnClassifier(pipeline).train(data)"
   ]
  },
  {
   "cell_type": "markdown",
   "metadata": {
    "id": "_dnjZ8940vzK"
   },
   "source": [
    "# Question 3: Cross-validation (20 marks)"
   ]
  },
  {
   "cell_type": "code",
   "execution_count": 31,
   "metadata": {
    "editable": true,
    "slideshow": {
     "slide_type": ""
    },
    "tags": []
   },
   "outputs": [],
   "source": [
    "from sklearn.model_selection import StratifiedKFold\n",
    "from sklearn.metrics import precision_score, recall_score, f1_score, accuracy_score\n",
    "\n",
    "# Assuming you have already defined the train_classifier and predict_labels functions\n",
    "\n",
    "def cross_validate(dataset, folds):\n",
    "    # Separate features (texts) and labels\n",
    "    texts = [item[0] for item in dataset]\n",
    "    labels = [item[1] for item in dataset]\n",
    "\n",
    "\n",
    "    # Initialize StratifiedKFold\n",
    "    skf = StratifiedKFold(n_splits=folds, shuffle=True, random_state=42)\n",
    "\n",
    "    # Initialize variables to store evaluation metrics\n",
    "    cv_results = {'precision': [], 'recall': [], 'f1_score': [], 'accuracy': []}\n",
    "\n",
    "    for i, (train_index, val_index) in enumerate(skf.split(texts, labels)):\n",
    "        # Split the data into training and validation sets\n",
    "        train_data = [(texts[idx], labels[idx]) for idx in train_index]\n",
    "        val_data = [(texts[idx], labels[idx]) for idx in val_index]\n",
    "\n",
    "        # Train the classifier\n",
    "        classifier = train_classifier(train_data)\n",
    "\n",
    "        # Make predictions on the validation set\n",
    "        val_texts = [sample[0] for sample in val_data]\n",
    "        val_labels = [sample[1] for sample in val_data]\n",
    "        val_predictions = predict_labels(val_texts, classifier)\n",
    "        global best_model\n",
    "        best_accuracy = 0.0\n",
    "\n",
    "        # Evaluate the classifier\n",
    "        precision = precision_score(val_labels, val_predictions, average='weighted')\n",
    "        recall = recall_score(val_labels, val_predictions, average='weighted')\n",
    "        f1 = f1_score(val_labels, val_predictions, average='weighted')\n",
    "        accuracy = accuracy_score(val_labels, val_predictions)\n",
    "        \n",
    "        if accuracy > best_accuracy:\n",
    "            \n",
    "            \n",
    "            best_accuracy = accuracy\n",
    "            print('best_accuracy: ',best_accuracy)\n",
    "            best_model = classifier\n",
    "\n",
    "        # Store the evaluation metrics for this fold\n",
    "        cv_results['precision'].append(precision)\n",
    "        cv_results['recall'].append(recall)\n",
    "        cv_results['f1_score'].append(f1)\n",
    "        cv_results['accuracy'].append(accuracy)\n",
    "\n",
    "        print(f\"Fold {i + 1}: Precision={precision:.4f}, Recall={recall:.4f}, F1 Score={f1:.4f}, Accuracy={accuracy:.4f}\")\n",
    "\n",
    "    # Calculate average scores for all folds\n",
    "    for metric in cv_results:\n",
    "        cv_results[metric] = sum(cv_results[metric]) / len(cv_results[metric])\n",
    "\n",
    "    return cv_results\n",
    "\n",
    "# Example usage:\n",
    "#results = cross_validate(train_data, 10)\n",
    "#print(\"Average Results:\", results)\n"
   ]
  },
  {
   "cell_type": "code",
   "execution_count": 32,
   "metadata": {},
   "outputs": [],
   "source": [
    "#best_model"
   ]
  },
  {
   "cell_type": "code",
   "execution_count": 33,
   "metadata": {},
   "outputs": [],
   "source": [
    "def predict_labels(samples, classifier):\n",
    "    \"\"\"Assuming preprocessed samples, return their predicted labels from the classifier model.\"\"\"\n",
    "    return [classifier.classify(to_feature_vector(sample)) for sample in samples]\n",
    "\n",
    "def predict_label_from_raw(sample, classifier):\n",
    "    \"\"\"Assuming raw text, return its predicted label from the classifier model.\"\"\"\n",
    "    preprocessed_sample = pre_process(sample)\n",
    "    feature_vector = to_feature_vector(preprocessed_sample)\n",
    "    return classifier.classify(feature_vector)\n"
   ]
  },
  {
   "cell_type": "code",
   "execution_count": 34,
   "metadata": {
    "id": "kFM0VqCB0vzL"
   },
   "outputs": [
    {
     "name": "stdout",
     "output_type": "stream",
     "text": [
      "Now 0 rawData, 0 trainData, 0 testData\n",
      "Preparing the dataset...\n",
      "Now 33540 rawData, 0 trainData, 0 testData\n",
      "Preparing training and test data...\n",
      "train data:  26832\n",
      "test data:  6708\n",
      "After split, 33540 rawData, 26832 trainData, 6708 testData\n",
      "Training Samples: \n",
      "26832\n",
      "Features: \n",
      "760858\n"
     ]
    }
   ],
   "source": [
    "# MAIN\n",
    "\n",
    "# loading reviews\n",
    "# initialize global lists that will be appended to by the methods below\n",
    "raw_data = []          # the filtered data from the dataset file\n",
    "train_data = []        # the pre-processed training data as a percentage of the total dataset\n",
    "test_data = []         # the pre-processed test data as a percentage of the total dataset\n",
    "\n",
    "\n",
    "# references to the data files\n",
    "data_file_path = 'sentiment-dataset.tsv'\n",
    "\n",
    "# Do the actual stuff (i.e. call the functions we've made)\n",
    "# We parse the dataset and put it in a raw data list\n",
    "print(\"Now %d rawData, %d trainData, %d testData\" % (len(raw_data), len(train_data), len(test_data)),\n",
    "      \"Preparing the dataset...\",sep='\\n')\n",
    "\n",
    "load_data(data_file_path)\n",
    "\n",
    "# We split the raw dataset into a set of training data and a set of test data (80/20)\n",
    "# You do the cross validation on the 80% (training data)\n",
    "# We print the number of training samples and the number of features before the split\n",
    "print(\"Now %d rawData, %d trainData, %d testData\" % (len(raw_data), len(train_data), len(test_data)),\n",
    "      \"Preparing training and test data...\",sep='\\n')\n",
    "\n",
    "split_and_preprocess_data(0.8)\n",
    "\n",
    "# We print the number of training samples and the number of features after the split\n",
    "print(\"After split, %d rawData, %d trainData, %d testData\" % (len(raw_data), len(train_data), len(test_data)),\n",
    "      \"Training Samples: \", len(train_data), \"Features: \", len(global_feature_dict), sep='\\n')\n"
   ]
  },
  {
   "cell_type": "code",
   "execution_count": 35,
   "metadata": {
    "id": "QnZoRglI0vzM"
   },
   "outputs": [
    {
     "name": "stdout",
     "output_type": "stream",
     "text": [
      "Training Classifier...\n"
     ]
    },
    {
     "name": "stderr",
     "output_type": "stream",
     "text": [
      "/opt/conda/lib/python3.10/site-packages/sklearn/svm/_classes.py:32: FutureWarning: The default value of `dual` will change from `True` to `'auto'` in 1.5. Set the value of `dual` explicitly to suppress the warning.\n",
      "  warnings.warn(\n"
     ]
    },
    {
     "name": "stdout",
     "output_type": "stream",
     "text": [
      "best_accuracy:  0.8625186289120715\n",
      "Fold 1: Precision=0.8611, Recall=0.8625, F1 Score=0.8608, Accuracy=0.8625\n",
      "Training Classifier...\n"
     ]
    },
    {
     "name": "stderr",
     "output_type": "stream",
     "text": [
      "/opt/conda/lib/python3.10/site-packages/sklearn/svm/_classes.py:32: FutureWarning: The default value of `dual` will change from `True` to `'auto'` in 1.5. Set the value of `dual` explicitly to suppress the warning.\n",
      "  warnings.warn(\n"
     ]
    },
    {
     "name": "stdout",
     "output_type": "stream",
     "text": [
      "best_accuracy:  0.8684798807749627\n",
      "Fold 2: Precision=0.8672, Recall=0.8685, F1 Score=0.8669, Accuracy=0.8685\n",
      "Training Classifier...\n"
     ]
    },
    {
     "name": "stderr",
     "output_type": "stream",
     "text": [
      "/opt/conda/lib/python3.10/site-packages/sklearn/svm/_classes.py:32: FutureWarning: The default value of `dual` will change from `True` to `'auto'` in 1.5. Set the value of `dual` explicitly to suppress the warning.\n",
      "  warnings.warn(\n"
     ]
    },
    {
     "name": "stdout",
     "output_type": "stream",
     "text": [
      "best_accuracy:  0.8691762951919493\n",
      "Fold 3: Precision=0.8682, Recall=0.8692, F1 Score=0.8671, Accuracy=0.8692\n",
      "Training Classifier...\n"
     ]
    },
    {
     "name": "stderr",
     "output_type": "stream",
     "text": [
      "/opt/conda/lib/python3.10/site-packages/sklearn/svm/_classes.py:32: FutureWarning: The default value of `dual` will change from `True` to `'auto'` in 1.5. Set the value of `dual` explicitly to suppress the warning.\n",
      "  warnings.warn(\n"
     ]
    },
    {
     "name": "stdout",
     "output_type": "stream",
     "text": [
      "best_accuracy:  0.868803578084234\n",
      "Fold 4: Precision=0.8678, Recall=0.8688, F1 Score=0.8667, Accuracy=0.8688\n",
      "Training Classifier...\n"
     ]
    },
    {
     "name": "stderr",
     "output_type": "stream",
     "text": [
      "/opt/conda/lib/python3.10/site-packages/sklearn/svm/_classes.py:32: FutureWarning: The default value of `dual` will change from `True` to `'auto'` in 1.5. Set the value of `dual` explicitly to suppress the warning.\n",
      "  warnings.warn(\n"
     ]
    },
    {
     "name": "stdout",
     "output_type": "stream",
     "text": [
      "best_accuracy:  0.8606038017144987\n",
      "Fold 5: Precision=0.8593, Recall=0.8606, F1 Score=0.8583, Accuracy=0.8606\n",
      "Training Classifier...\n"
     ]
    },
    {
     "name": "stderr",
     "output_type": "stream",
     "text": [
      "/opt/conda/lib/python3.10/site-packages/sklearn/svm/_classes.py:32: FutureWarning: The default value of `dual` will change from `True` to `'auto'` in 1.5. Set the value of `dual` explicitly to suppress the warning.\n",
      "  warnings.warn(\n"
     ]
    },
    {
     "name": "stdout",
     "output_type": "stream",
     "text": [
      "best_accuracy:  0.8691762951919493\n",
      "Fold 6: Precision=0.8681, Recall=0.8692, F1 Score=0.8672, Accuracy=0.8692\n",
      "Training Classifier...\n"
     ]
    },
    {
     "name": "stderr",
     "output_type": "stream",
     "text": [
      "/opt/conda/lib/python3.10/site-packages/sklearn/svm/_classes.py:32: FutureWarning: The default value of `dual` will change from `True` to `'auto'` in 1.5. Set the value of `dual` explicitly to suppress the warning.\n",
      "  warnings.warn(\n"
     ]
    },
    {
     "name": "stdout",
     "output_type": "stream",
     "text": [
      "best_accuracy:  0.8572493477450615\n",
      "Fold 7: Precision=0.8557, Recall=0.8572, F1 Score=0.8551, Accuracy=0.8572\n",
      "Training Classifier...\n"
     ]
    },
    {
     "name": "stderr",
     "output_type": "stream",
     "text": [
      "/opt/conda/lib/python3.10/site-packages/sklearn/svm/_classes.py:32: FutureWarning: The default value of `dual` will change from `True` to `'auto'` in 1.5. Set the value of `dual` explicitly to suppress the warning.\n",
      "  warnings.warn(\n"
     ]
    },
    {
     "name": "stdout",
     "output_type": "stream",
     "text": [
      "best_accuracy:  0.8684308609765188\n",
      "Fold 8: Precision=0.8681, Recall=0.8684, F1 Score=0.8657, Accuracy=0.8684\n",
      "Training Classifier...\n"
     ]
    },
    {
     "name": "stderr",
     "output_type": "stream",
     "text": [
      "/opt/conda/lib/python3.10/site-packages/sklearn/svm/_classes.py:32: FutureWarning: The default value of `dual` will change from `True` to `'auto'` in 1.5. Set the value of `dual` explicitly to suppress the warning.\n",
      "  warnings.warn(\n"
     ]
    },
    {
     "name": "stdout",
     "output_type": "stream",
     "text": [
      "best_accuracy:  0.876257920238539\n",
      "Fold 9: Precision=0.8755, Recall=0.8763, F1 Score=0.8743, Accuracy=0.8763\n",
      "Training Classifier...\n"
     ]
    },
    {
     "name": "stderr",
     "output_type": "stream",
     "text": [
      "/opt/conda/lib/python3.10/site-packages/sklearn/svm/_classes.py:32: FutureWarning: The default value of `dual` will change from `True` to `'auto'` in 1.5. Set the value of `dual` explicitly to suppress the warning.\n",
      "  warnings.warn(\n"
     ]
    },
    {
     "name": "stdout",
     "output_type": "stream",
     "text": [
      "best_accuracy:  0.8751397689153932\n",
      "Fold 10: Precision=0.8740, Recall=0.8751, F1 Score=0.8738, Accuracy=0.8751\n"
     ]
    },
    {
     "data": {
      "text/plain": [
       "{'precision': 0.8664991098158014,\n",
       " 'recall': 0.8675836377745177,\n",
       " 'f1_score': 0.865596919847173,\n",
       " 'accuracy': 0.8675836377745177}"
      ]
     },
     "execution_count": 35,
     "metadata": {},
     "output_type": "execute_result"
    }
   ],
   "source": [
    "cross_validate(train_data, 10)  # will work and output overall performance of p, r, f-score when cv implemented"
   ]
  },
  {
   "cell_type": "code",
   "execution_count": null,
   "metadata": {},
   "outputs": [],
   "source": []
  },
  {
   "cell_type": "markdown",
   "metadata": {
    "id": "mAoHsc610vzM"
   },
   "source": [
    "# Question 4: Error Analysis (20 marks)"
   ]
  },
  {
   "cell_type": "code",
   "execution_count": 36,
   "metadata": {
    "id": "8jdUTo3m0vzN"
   },
   "outputs": [],
   "source": [
    "from sklearn import metrics\n",
    "import matplotlib.pyplot as plt\n",
    "import numpy as np\n",
    "\n",
    "def confusion_matrix_heatmap(val_data,y_test, preds, labels):\n",
    "    \"\"\"Function to plot a confusion matrix\"\"\"\n",
    "    cm = metrics.confusion_matrix(y_test, preds, labels=labels)\n",
    "            # Log false positives and false negatives\n",
    "    false_positives.append([val_data[idx] for idx in range(len(val_data)) if preds[idx] == 'positive' and val_data[idx][1] == 'negative'])\n",
    "    false_negatives.append([val_data[idx] for idx in range(len(val_data)) if preds[idx] == 'negative' and val_data[idx][1] == 'positive'])\n",
    "\n",
    "    fig = plt.figure(figsize=(10, 10))\n",
    "    ax = fig.add_subplot(111)\n",
    "    cax = ax.matshow(cm)\n",
    "    plt.title('Confusion matrix of the classifier')\n",
    "    fig.colorbar(cax)\n",
    "    ax.set_xticks(np.arange(len(labels)))\n",
    "    ax.set_yticks(np.arange(len(labels)))\n",
    "    ax.set_xticklabels(labels, rotation=45)\n",
    "    ax.set_yticklabels(labels)\n",
    "\n",
    "    for i in range(len(cm)):\n",
    "        for j in range(len(cm)):\n",
    "            text = ax.text(j, i, cm[i, j],\n",
    "                           ha=\"center\", va=\"center\", color=\"w\")\n",
    "\n",
    "    plt.xlabel('Predicted')\n",
    "    plt.ylabel('True')\n",
    "\n",
    "    # Fix for mpl bug that cuts off top/bottom of seaborn viz\n",
    "    b, t = plt.ylim()  # Discover the values for bottom and top\n",
    "    b += 0.5  # Add 0.5 to the bottom\n",
    "    t -= 0.5  # Subtract 0.5 from the top\n",
    "    plt.ylim(b, t)  # Update the ylim(bottom, top) values\n",
    "    plt.show()  # Display the plot\n",
    "    plt.show()"
   ]
  },
  {
   "cell_type": "code",
   "execution_count": 37,
   "metadata": {},
   "outputs": [],
   "source": [
    "#test_labels"
   ]
  },
  {
   "cell_type": "code",
   "execution_count": 38,
   "metadata": {},
   "outputs": [
    {
     "data": {
      "text/plain": [
       "6708"
      ]
     },
     "execution_count": 38,
     "metadata": {},
     "output_type": "execute_result"
    }
   ],
   "source": [
    "len(test_data)"
   ]
  },
  {
   "cell_type": "code",
   "execution_count": 39,
   "metadata": {},
   "outputs": [],
   "source": [
    "test_texts = [sample[0] for sample in test_data]\n",
    "test_labels = [sample[1] for sample in test_data]\n",
    "test_predictions = predict_labels(test_texts, best_model)\n",
    "labels = ['positive', 'negative']"
   ]
  },
  {
   "cell_type": "code",
   "execution_count": 40,
   "metadata": {},
   "outputs": [],
   "source": [
    "test_texts = [sample[0] for sample in test_data]\n",
    "false_positives = []\n",
    "false_negatives = []\n",
    "def analyze_errors(texts,ytest, ypred, labels):\n",
    "    false_positives = [i for i in range(len(ytest)) if ypred[i] == 'positive' and ytest[i] == 'negative']\n",
    "    false_negatives = [i for i in range(len(ytest)) if ypred[i] == 'negative' and ytest[i] == 'positive']\n",
    "\n",
    "    #print(\"False Positives:\")\n",
    "    for idx in false_positives:\n",
    "        cleaned_string = re.sub(r'[^a-zA-Z\\s]', '', str(texts[idx]))\n",
    "\n",
    "        #print(f\"Text: {cleaned_string}, Predicted: {ypred[idx]}, True: {ytest[idx]}\")\n",
    "\n",
    "    #print(\"\\nFalse Negatives:\")\n",
    "    for idx in false_negatives:\n",
    "        cleaned_string = re.sub(r'[^a-zA-Z\\s]', '', str(texts[idx]))\n",
    "        #print(f\"Text: {cleaned_string}, Predicted: {ypred[idx]}, True: {ytest[idx]}\")\n",
    "\n",
    "# Example usage:\n",
    "# Assuming you have ytest and ypred\n",
    "analyze_errors(test_texts,test_labels, test_predictions, labels)"
   ]
  },
  {
   "cell_type": "code",
   "execution_count": 41,
   "metadata": {},
   "outputs": [
    {
     "data": {
      "image/png": "[encoded data removed]",
      "text/plain": [
       "<Figure size 1000x1000 with 2 Axes>"
      ]
     },
     "metadata": {},
     "output_type": "display_data"
    }
   ],
   "source": [
    "\n",
    "confusion_matrix_heatmap(test_data,test_labels, test_predictions, labels)"
   ]
  },
  {
   "cell_type": "markdown",
   "metadata": {
    "id": "Fjmngeso0vzN"
   },
   "source": [
    "# Questions 5: Optimising pre-processing and feature extraction (30 marks)"
   ]
  },
  {
   "cell_type": "markdown",
   "metadata": {
    "id": "iAypyCrD0vzN"
   },
   "source": [
    "**Note:** it is advisable to implement question 5 in a separate notebook where you further develop the pre-processing and feature extraction functions you implemented above."
   ]
  },
  {
   "cell_type": "code",
   "execution_count": 42,
   "metadata": {
    "id": "-MYfOTea0vzN"
   },
   "outputs": [
    {
     "name": "stdout",
     "output_type": "stream",
     "text": [
      "({'tomorrow': 1, 'well': 1, 'release': 1, 'our': 1, 'th': 1, 'episode': 1, 'of': 1, 'hsonair': 1, 'profiling': 1, 'very': 1, 'own': 1, 'alissadossantos': 1, 'talk': 1, 'about': 1, 'storytelling': 1, 'and': 1, 'beyonce': 1, 'tomorrow well': 1, 'well release': 1, 'release our': 1, 'our th': 1, 'th episode': 1, 'episode of': 1, 'of hsonair': 1, 'hsonair profiling': 1, 'profiling our': 1, 'our very': 1, 'very own': 1, 'own alissadossantos': 1, 'alissadossantos well': 1, 'well talk': 1, 'talk about': 1, 'about storytelling': 1, 'storytelling and': 1, 'and beyonce': 1, 'tomorrow well release': 1, 'well release our': 1, 'release our th': 1, 'our th episode': 1, 'th episode of': 1, 'episode of hsonair': 1, 'of hsonair profiling': 1, 'hsonair profiling our': 1, 'profiling our very': 1, 'our very own': 1, 'very own alissadossantos': 1, 'own alissadossantos well': 1, 'alissadossantos well talk': 1, 'well talk about': 1, 'talk about storytelling': 1, 'about storytelling and': 1, 'storytelling and beyonce': 1}, 'positive')\n",
      "Training Classifier...\n"
     ]
    },
    {
     "name": "stderr",
     "output_type": "stream",
     "text": [
      "/opt/conda/lib/python3.10/site-packages/sklearn/svm/_classes.py:32: FutureWarning: The default value of `dual` will change from `True` to `'auto'` in 1.5. Set the value of `dual` explicitly to suppress the warning.\n",
      "  warnings.warn(\n"
     ]
    },
    {
     "name": "stdout",
     "output_type": "stream",
     "text": [
      "Done training!\n",
      "Precision: 0.863030\n",
      "Recall: 0.864341\n",
      "F Score:0.862493\n"
     ]
    }
   ],
   "source": [
    "# Finally, check the accuracy of your classifier by training on all the traning data\n",
    "# and testing on the test set\n",
    "# Will only work once all functions are complete\n",
    "functions_complete = True  # set to True once you're happy with your methods for cross val\n",
    "if functions_complete:\n",
    "    print(test_data[0])   # have a look at the first test data instance\n",
    "    classifier = train_classifier(train_data)  # train the classifier\n",
    "    test_true = [t[1] for t in test_data]   # get the ground-truth labels from the data\n",
    "    test_pred = predict_labels([x[0] for x in test_data], classifier)  # classify the test data to get predicted labels\n",
    "    final_scores = precision_recall_fscore_support(test_true, test_pred, average='weighted') # evaluate\n",
    "    print(\"Done training!\")\n",
    "    print(\"Precision: %f\\nRecall: %f\\nF Score:%f\" % final_scores[:3])"
   ]
  },
  {
   "cell_type": "code",
   "execution_count": null,
   "metadata": {
    "id": "OwNW7G870vzO"
   },
   "outputs": [],
   "source": []
  }
 ],
 "metadata": {
  "colab": {
   "provenance": []
  },
  "kernelspec": {
   "display_name": "Python 3 (ipykernel)",
   "language": "python",
   "name": "python3"
  },
  "language_info": {
   "codemirror_mode": {
    "name": "ipython",
    "version": 3
   },
   "file_extension": ".py",
   "mimetype": "text/x-python",
   "name": "python",
   "nbconvert_exporter": "python",
   "pygments_lexer": "ipython3",
   "version": "3.10.13"
  }
 },
 "nbformat": 4,
 "nbformat_minor": 4
}
